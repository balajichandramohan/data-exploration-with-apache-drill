{
 "cells": [
  {
   "cell_type": "markdown",
   "metadata": {},
   "source": [
    "# Accessing Drill from R\n",
    "This notebook demonstrates how to access Drill programmatically from R.  In order to do so, you will need to first install the `Sergeant` (get it... Drill Sergeant HAHAHAHA) library which is available here: https://github.com/hrbrmstr/sergeant\n",
    "\n",
    "You can install the library with the following command:\n",
    "```R\n",
    "devtools::install_github(\"hrbrmstr/sergeant\")\n",
    "```\n",
    "The Sergeant module supports several ways of interacting with Drill:\n",
    "\n",
    "**`DBI`**\n",
    "\n",
    "-   As complete of an R `DBI` driver has been implemented using the Drill REST API, mostly to facilitate the `dplyr` interface. Use the `RJDBC` driver interface if you need more `DBI` functionality.\n",
    "-   This also means that SQL functions unique to Drill have also been \"implemented\" (i.e. made accessible to the `dplyr` interface). If you have custom Drill SQL functions that need to be implemented please file an issue on GitHub.\n",
    "\n",
    "**`RJDBC`**\n",
    "\n",
    "-   `drill_jdbc`: Connect to Drill using JDBC, enabling use of said idioms. See `RJDBC` for more info.\n",
    "-   NOTE: The DRILL JDBC driver fully-qualified path must be placed in the `DRILL_JDBC_JAR` environment variable. This is best done via `~/.Renviron` for interactive work. i.e. `DRILL_JDBC_JAR=/usr/local/drill/jars/drill-jdbc-all-1.9.0.jar`\n",
    "\n",
    "**`dplyr`**:\n",
    "\n",
    "-   `src_drill`: Connect to Drill (using dplyr) + supporting functions\n",
    "\n",
    "See `dplyr` for the `dplyr` operations (light testing shows they work in basic SQL use-cases but Drill's SQL engine has issues with more complex queries).\n",
    "\n",
    "This short notebook will demonstrate how to connect to drill, execute a query and retrieve the results.\n",
    "\n",
    "First you have to load the `Sergeant` library with the following command:\n",
    "```R\n",
    "library( sergeant )\n",
    "```\n"
   ]
  },
  {
   "cell_type": "code",
   "execution_count": null,
   "metadata": {
    "collapsed": false
   },
   "outputs": [],
   "source": [
    "library(sergeant)"
   ]
  },
  {
   "cell_type": "markdown",
   "metadata": {},
   "source": [
    "## Step 1:  Connect to Drill\n",
    "The first step is to connect to Drill. You can do this with the `drill_connection()` method as follows:\n",
    "\n",
    "```R\n",
    "dc <- drill_connection(\"localhost\") \n",
    "```\n",
    "\n",
    "It is a good idea to check to see if the connection is in fact active, which can be accomplished with the `drill_active(<connection>)` method."
   ]
  },
  {
   "cell_type": "code",
   "execution_count": null,
   "metadata": {
    "collapsed": false
   },
   "outputs": [],
   "source": [
    "dc <- drill_connection(\"localhost\") \n",
    "drill_active(dc)"
   ]
  },
  {
   "cell_type": "markdown",
   "metadata": {},
   "source": [
    "## Step 2:  Execute a Query\n",
    "The next step is to actually execute a query.  The `drill_query(<connection>, <query>)` method takes a connection and a query string as arguments and returns the query results.  Try it out below."
   ]
  },
  {
   "cell_type": "code",
   "execution_count": null,
   "metadata": {
    "collapsed": false
   },
   "outputs": [],
   "source": [
    "query_result <- drill_query(dc, \"SELECT * FROM cp.`employee.json` limit 100\")"
   ]
  },
  {
   "cell_type": "markdown",
   "metadata": {},
   "source": [
    "## That's it!\n",
    "That's really all there is to using R to query Drill and retrieve the results.  "
   ]
  },
  {
   "cell_type": "markdown",
   "metadata": {},
   "source": [
    "# In Class Exercise:\n",
    "Using the data in the `dailybots.csv` file use Drill to:\n",
    "\n",
    "1. Query the file to produce a summary of infections by day.\n",
    "2. Store this data in a dataframe.\n",
    "3. Create a line plot of this data by calling the .plot() method on the dataframe\n"
   ]
  },
  {
   "cell_type": "code",
   "execution_count": null,
   "metadata": {
    "collapsed": true
   },
   "outputs": [],
   "source": []
  }
 ],
 "metadata": {
  "kernelspec": {
   "display_name": "R",
   "language": "R",
   "name": "ir"
  },
  "language_info": {
   "codemirror_mode": "r",
   "file_extension": ".r",
   "mimetype": "text/x-r-source",
   "name": "R",
   "pygments_lexer": "r",
   "version": "3.3.1"
  },
  "latex_envs": {
   "bibliofile": "biblio.bib",
   "cite_by": "apalike",
   "current_citInitial": 1,
   "eqLabelWithNumbers": true,
   "eqNumInitial": 0
  }
 },
 "nbformat": 4,
 "nbformat_minor": 2
}
