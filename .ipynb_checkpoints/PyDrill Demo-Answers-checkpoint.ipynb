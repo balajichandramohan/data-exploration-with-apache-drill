{
 "cells": [
  {
   "cell_type": "markdown",
   "metadata": {},
   "source": [
    "# PyDrill Demonstration\n",
    "This notebook demonstrates how to use the PyDrill module to connect to Apache Drill and query data. The complete documentation for PyDrill can be found at http://pydrill.readthedocs.io\n",
    "\n",
    "The essential steps are:\n",
    "1.  Import the module\n",
    "2.  Open a connection to Drill\n",
    "3.  Execute a query\n",
    "4.  Do something with the results. \n",
    "\n",
    "You will first need to install PyDrill.  This can be done by opening a terminal and typing:\n",
    "```python\n",
    "pip install pydrill\n",
    "```\n",
    "## Step 1:  Import the PyDrill module\n",
    "After you've done this, you will be able to import the PyDrill module."
   ]
  },
  {
   "cell_type": "code",
   "execution_count": 1,
   "metadata": {
    "collapsed": true
   },
   "outputs": [],
   "source": [
    "from pydrill.client import PyDrill"
   ]
  },
  {
   "cell_type": "markdown",
   "metadata": {},
   "source": [
    "## Step 2:  Open a connection to Drill\n",
    "The next step is to open a connection to Drill.  Once you've opened the connection, you will want to verify that the connection was successfully opened before executing any queries.  PyDrill includes an `is_active()` method for this purpose."
   ]
  },
  {
   "cell_type": "code",
   "execution_count": 2,
   "metadata": {
    "collapsed": false
   },
   "outputs": [],
   "source": [
    "#Open a connection to Drill\n",
    "drill = PyDrill(host='localhost', port=8047)\n",
    "\n",
    "#Verify the connection is active, throw an error if not.\n",
    "if not drill.is_active():\n",
    "    raise ImproperlyConfigured('Please run Drill first')"
   ]
  },
  {
   "cell_type": "markdown",
   "metadata": {},
   "source": [
    "## Step 3: Execute a query and get the results\n",
    "The next and final step is to execute a query in Drill.  When you call the `.query()` method, PyDrill returns an iterable object from which you can extract the rows of your results.  You can also get PyDrill to return a pandas DataFrame. "
   ]
  },
  {
   "cell_type": "code",
   "execution_count": 5,
   "metadata": {
    "collapsed": false
   },
   "outputs": [
    {
     "name": "stdout",
     "output_type": "stream",
     "text": [
      "{'avg_salary': '238772.0', 'JobTitle': \"STATE'S ATTORNEY\", 'number': '1'}\n",
      "{'avg_salary': '200000.0', 'JobTitle': 'Police Commissioner', 'number': '1'}\n",
      "{'avg_salary': '182500.0', 'JobTitle': 'Executive Director V', 'number': '1'}\n",
      "{'avg_salary': '171635.0', 'JobTitle': 'MAYOR', 'number': '1'}\n",
      "{'avg_salary': '171306.5', 'JobTitle': 'Executive Director III', 'number': '10'}\n",
      "{'avg_salary': '169800.0', 'JobTitle': 'CITY SOLICITOR', 'number': '1'}\n",
      "{'avg_salary': '169800.0', 'JobTitle': 'DIRECTOR PUBLIC WORKS', 'number': '1'}\n",
      "{'avg_salary': '163000.0', 'JobTitle': 'CITY AUDITOR', 'number': '1'}\n",
      "{'avg_salary': '154900.0', 'JobTitle': 'Deputy Police Commissioner', 'number': '2'}\n",
      "{'avg_salary': '153905.0', 'JobTitle': 'Executive Director I', 'number': '4'}\n",
      "{'avg_salary': '149825.0', 'JobTitle': 'Executive Director IV', 'number': '4'}\n",
      "{'avg_salary': '146500.0', 'JobTitle': 'Assistant Fire Chief', 'number': '3'}\n",
      "{'avg_salary': '140800.0', 'JobTitle': 'Chief of Utility Finances', 'number': '1'}\n",
      "{'avg_salary': '138200.0', 'JobTitle': 'Police Colonel', 'number': '3'}\n",
      "{'avg_salary': '136850.0', 'JobTitle': 'Executive Director II', 'number': '4'}\n",
      "{'avg_salary': '135000.0', 'JobTitle': 'WWW Chief of Engineering', 'number': '1'}\n",
      "{'avg_salary': '132600.0', 'JobTitle': 'SHERIFF', 'number': '1'}\n",
      "{'avg_salary': '132600.0', 'JobTitle': 'WWW Division  Manager I', 'number': '1'}\n",
      "{'avg_salary': '131915.77777777778', 'JobTitle': 'Operations Director II', 'number': '9'}\n",
      "{'avg_salary': '131305.45454545456', 'JobTitle': 'Operations Director I', 'number': '11'}\n",
      "{'avg_salary': '130748.33333333333', 'JobTitle': 'Deputy Fire Chief', 'number': '9'}\n",
      "{'avg_salary': '130500.0', 'JobTitle': 'Police Lieutenant Colonel', 'number': '4'}\n",
      "{'avg_salary': '123900.0', 'JobTitle': 'Police Major', 'number': '16'}\n",
      "{'avg_salary': '122700.0', 'JobTitle': 'Deputy City Auditor', 'number': '1'}\n",
      "{'avg_salary': '121700.0', 'JobTitle': 'FINANCE PROJECT MANAGER', 'number': '1'}\n",
      "{'avg_salary': '121591.81818181818', 'JobTitle': 'Operations Manager III', 'number': '11'}\n",
      "{'avg_salary': '121590.0', 'JobTitle': 'IT Division Manager', 'number': '5'}\n",
      "{'avg_salary': '120841.0', 'JobTitle': 'DIRECTOR LEGISLATIVE REFERENCE', 'number': '1'}\n",
      "{'avg_salary': '120700.0', 'JobTitle': 'DIRECTOR, PUBLIC PROGRAM', 'number': '1'}\n",
      "{'avg_salary': '120400.0', 'JobTitle': 'PUBLIC HEALTH PHYSICIAN', 'number': '1'}\n",
      "{'avg_salary': '120000.0', 'JobTitle': 'Director, Automated Traffic Vi', 'number': '1'}\n",
      "{'avg_salary': '119916.0', 'JobTitle': 'MASTER', 'number': '3'}\n",
      "{'avg_salary': '118920.0', 'JobTitle': 'WWW Division Manager II', 'number': '5'}\n",
      "{'avg_salary': '117200.0', 'JobTitle': 'Police Captain', 'number': '17'}\n",
      "{'avg_salary': '116928.02222222222', 'JobTitle': 'Operations Manager II', 'number': '45'}\n",
      "{'avg_salary': '113700.0', 'JobTitle': 'LATENT PRINT EXAMINER SUPV', 'number': '1'}\n",
      "{'avg_salary': '113649.0', 'JobTitle': 'PRESIDENT CITY COUNCIL', 'number': '1'}\n",
      "{'avg_salary': '113649.0', 'JobTitle': 'COMPTROLLER', 'number': '1'}\n",
      "{'avg_salary': '110851.08', 'JobTitle': 'Battalion Fire Chief Suppress', 'number': '25'}\n",
      "{'avg_salary': '110289.75', 'JobTitle': 'Battalion Fire Chief, ALS Supp', 'number': '4'}\n",
      "{'avg_salary': '109968.0', 'JobTitle': 'PROGRAM MANAGER IV SHERIFF', 'number': '1'}\n",
      "{'avg_salary': '109000.0', 'JobTitle': 'DIRECTOR COUNCIL SERVICES', 'number': '1'}\n",
      "{'avg_salary': '108637.0', 'JobTitle': 'GENERAL COUNSEL', 'number': '4'}\n",
      "{'avg_salary': '107725.56521739131', 'JobTitle': 'Operations Manager I', 'number': '46'}\n",
      "{'avg_salary': '107615.94117647059', 'JobTitle': 'POLICE LIEUTENANT EID', 'number': '51'}\n",
      "{'avg_salary': '106699.18181818182', 'JobTitle': 'POLICE LIEUTENANT', 'number': '55'}\n",
      "{'avg_salary': '105800.0', 'JobTitle': 'DIRECTOR ORAL HEALTH SERVICES', 'number': '1'}\n",
      "{'avg_salary': '105033.5', 'JobTitle': 'Battalion Fire Chief EMS EMT-P', 'number': '6'}\n",
      "{'avg_salary': '104826.74468085106', 'JobTitle': \"CHIEF STATE'S ATTORNEY\", 'number': '47'}\n",
      "{'avg_salary': '104681.88888888889', 'JobTitle': 'CHIEF SOLICITOR', 'number': '18'}\n"
     ]
    }
   ],
   "source": [
    "#Execute query in Drill\n",
    "query_result = drill.query('''\n",
    "SELECT JobTitle, \n",
    "AVG( TO_NUMBER( AnnualSalary, '¤' )) AS avg_salary, \n",
    "COUNT( DISTINCT `EmpName` ) AS number\n",
    "FROM dfs.drillclass.`baltimore_salaries_2016.csvh`\n",
    "GROUP BY JobTitle\n",
    "Order BY avg_salary DESC\n",
    "LIMIT 50\n",
    "''')\n",
    "\n",
    "#Iterate through the rows.\n",
    "for row in query_result:\n",
    "    print( row )"
   ]
  },
  {
   "cell_type": "markdown",
   "metadata": {
    "collapsed": false
   },
   "source": [
    "### Retrieving a DataFrame\n",
    "You can also get PyDrill to directly return a DataFrame by using the `.to_dataframe()` method of the results object."
   ]
  },
  {
   "cell_type": "code",
   "execution_count": 6,
   "metadata": {
    "collapsed": false
   },
   "outputs": [
    {
     "data": {
      "text/html": [
       "<div>\n",
       "<table border=\"1\" class=\"dataframe\">\n",
       "  <thead>\n",
       "    <tr style=\"text-align: right;\">\n",
       "      <th></th>\n",
       "      <th>JobTitle</th>\n",
       "      <th>avg_salary</th>\n",
       "      <th>number</th>\n",
       "    </tr>\n",
       "  </thead>\n",
       "  <tbody>\n",
       "    <tr>\n",
       "      <th>0</th>\n",
       "      <td>STATE'S ATTORNEY</td>\n",
       "      <td>238772.0</td>\n",
       "      <td>1</td>\n",
       "    </tr>\n",
       "    <tr>\n",
       "      <th>1</th>\n",
       "      <td>Police Commissioner</td>\n",
       "      <td>200000.0</td>\n",
       "      <td>1</td>\n",
       "    </tr>\n",
       "    <tr>\n",
       "      <th>2</th>\n",
       "      <td>Executive Director V</td>\n",
       "      <td>182500.0</td>\n",
       "      <td>1</td>\n",
       "    </tr>\n",
       "    <tr>\n",
       "      <th>3</th>\n",
       "      <td>MAYOR</td>\n",
       "      <td>171635.0</td>\n",
       "      <td>1</td>\n",
       "    </tr>\n",
       "    <tr>\n",
       "      <th>4</th>\n",
       "      <td>Executive Director III</td>\n",
       "      <td>171306.5</td>\n",
       "      <td>10</td>\n",
       "    </tr>\n",
       "  </tbody>\n",
       "</table>\n",
       "</div>"
      ],
      "text/plain": [
       "                 JobTitle avg_salary number\n",
       "0        STATE'S ATTORNEY   238772.0      1\n",
       "1     Police Commissioner   200000.0      1\n",
       "2    Executive Director V   182500.0      1\n",
       "3                   MAYOR   171635.0      1\n",
       "4  Executive Director III   171306.5     10"
      ]
     },
     "execution_count": 6,
     "metadata": {},
     "output_type": "execute_result"
    }
   ],
   "source": [
    "df = query_result.to_dataframe()\n",
    "df.head()"
   ]
  },
  {
   "cell_type": "markdown",
   "metadata": {},
   "source": [
    "## In Class Exercise:\n",
    "Using the data in the `dailybots.csv` file use Drill to:\n",
    "1.  Query the file to produce a summary of infections by day.\n",
    "2.  Store this data in a dataframe using the `to_dataframe()` method.\n",
    "3.  Create a line plot of this data by calling the .plot() method on the dataframe"
   ]
  },
  {
   "cell_type": "code",
   "execution_count": null,
   "metadata": {
    "collapsed": true
   },
   "outputs": [],
   "source": []
  }
 ],
 "metadata": {
  "anaconda-cloud": {},
  "kernelspec": {
   "display_name": "Python [default]",
   "language": "python",
   "name": "python3"
  },
  "language_info": {
   "codemirror_mode": {
    "name": "ipython",
    "version": 3
   },
   "file_extension": ".py",
   "mimetype": "text/x-python",
   "name": "python",
   "nbconvert_exporter": "python",
   "pygments_lexer": "ipython3",
   "version": "3.5.2"
  }
 },
 "nbformat": 4,
 "nbformat_minor": 0
}
